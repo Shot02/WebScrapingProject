{
 "cells": [
  {
   "cell_type": "code",
   "execution_count": 1,
   "id": "00e76571-629d-4ea1-925d-68f02c942dec",
   "metadata": {},
   "outputs": [],
   "source": [
    "import pandas as pd\n",
    "import numpy as np"
   ]
  },
  {
   "cell_type": "code",
   "execution_count": 11,
   "id": "2a1ecf70-5d15-4ebb-8783-a604e8e06f02",
   "metadata": {},
   "outputs": [
    {
     "name": "stdout",
     "output_type": "stream",
     "text": [
      "Names: 40, Prices: 40, Solds: 40, Images: 0\n",
      "Product: HP Probook X360 11 G1-intel®celeron-128GB SSD - 4GB ... | Price: ₦180,000 | Solds: Sold by Dhavid Ventures | Image: N/A\n",
      "Product: Dell Lalatitude E6430/ E6420- Intel Core I7- 500GB H... | Price: ₦240,000 | Solds: Sold by Ugoomart | Image: N/A\n",
      "Product: HP Stream - 11\" - Intel Celeron - 4GB RAM - 64GB HDD... | Price: ₦130,000 | Solds: Sold by Topzy Gadget | Image: N/A\n",
      "Product: HP 11\" Stream 11 Pro G4- Intel Celeron Dual Core- 64... | Price: ₦145,000 | Solds: Sold by Premium Ventures Inc | Image: N/A\n",
      "Product: HP Probook 11 X360 - Touch Intel Core I5 - 256gb Ssd... | Price: ₦350,000 | Solds: Sold by Pheemyhan Concept | Image: N/A\n",
      "Product: HP Stream 11-intel Celeron Dual-core-4GB RAM - 64GB ... | Price: ₦134,000 | Solds: Sold by Dhavid Ventures | Image: N/A\n",
      "Product: HP Stream 11 Intel Celeron - 64GB HDD - 4GB RAM - Wi... | Price: ₦140,000 | Solds: Sold by Best Choose Hub | Image: N/A\n",
      "Product: HP Stream 11 Laptop- Intel Celeron - 64GB SSD - 4GB... | Price: ₦150,000 | Solds: Sold by Falana Nation | Image: N/A\n",
      "Product: Hp Stream 11 Intel Celeron Quad Core - 11'-- 64GB SS... | Price: ₦150,000 | Solds: Sold by Simplexar Store | Image: N/A\n",
      "Product: HP Probook 11 X360- Intelceleron - 128GB SSD - 4GB R... | Price: ₦189,000 | Solds: Sold by God First 01 | Image: N/A\n",
      "Product: HP Stream 11 Pro - 15\" - Intel Celeron - SSD - 64GB ... | Price: ₦145,000 | Solds: Sold by Gt System Tech | Image: N/A\n",
      "Product: HP Probook X360 11 Touchscreen Intel Celeron 128GB S... | Price: ₦175,000 | Solds: Sold by Ibksolution | Image: N/A\n",
      "Product: Hp Stream 11-intel Celeron Dual-core- 4GB RAM 64GB S... | Price: ₦135,000 | Solds: Sold by Dhavid Ventures | Image: N/A\n",
      "Product: HP Stream 11pro G2-intel Celeron-4GB RAM - 64GB -11-... | Price: ₦130,000 | Solds: Sold by Ibksolution | Image: N/A\n",
      "Product: HP Stream 11 - Intel Celeron - 64GB HDD - 4GB RAM - ... | Price: ₦155,000 | Solds: Sold by Bisdek | Image: N/A\n",
      "Product: Hp Stream 11 - Intel Celeron - 64GB SSD - 4GB RAM - ... | Price: ₦133,000 | Solds: Sold by Good Guide Ventures | Image: N/A\n",
      "Product: Hp Stream 11 -intel Celeron 4gb RAM 64GB SSD Window... | Price: ₦133,000 | Solds: Sold by Dhavid Ventures | Image: N/A\n",
      "Product: HP Probook 11 X360 - Touch Intel Core I5 - 128GB Ssd... | Price: ₦330,000 | Solds: Sold by Pheemyhan Concept | Image: N/A\n",
      "Product: HP Stream 11 - Intel- Celeron Quad Core - 4GB RAM - ... | Price: ₦150,000 | Solds: Sold by Gaff Essential Gadgets | Image: N/A\n",
      "Product: HP Stream 11 - Intel Celeron Quad Core - 64GB Ssd - ... | Price: ₦150,000 | Solds: Sold by Falana Nation | Image: N/A\n",
      "Product: Toshiba Satellite Pro L830- Intel Core I3 - 250GB RO... | Price: ₦225,000 | Solds: Sold by Ugoomart | Image: N/A\n",
      "Product: HP Stream 11 - Intel Celeron Quad Core - 64GB Ssd - ... | Price: ₦150,000 | Solds: Sold by Falana Nation | Image: N/A\n",
      "Product: Lenovo 80ew Intel Core I3 500GB HDD 8GB RAM,15.6 Inc... | Price: ₦265,000 | Solds: Sold by Ugoomart | Image: N/A\n",
      "Product: HP Stream 11 - Celeron - 4GB RAM - 64GB SSD - Window... | Price: ₦150,000 | Solds: Sold by Pheemyhan Concept | Image: N/A\n",
      "Product: HP Stream 11 - Intel Celeron - 4GB RAM - 64GB SSD - ... | Price: ₦157,000 | Solds: Sold by Pheemyhan Concept | Image: N/A\n",
      "Product: HP Stream 11 - Intel Celeron - 4GB RAM - 64GB SSD - ... | Price: ₦140,000 | Solds: Sold by Pheemyhan Concept | Image: N/A\n",
      "Product: HP Stream 11 - Intel Celeron - 4GB RAM - 64GB Ssd - ... | Price: ₦170,000 | Solds: Sold by Pheemyhan Concept | Image: N/A\n",
      "Product: Dell Lalatitude E6430/ E6420- Intel Core i7- 500GB H... | Price: ₦290,000 | Solds: Sold by Ugoomart | Image: N/A\n",
      "Product: HP Stream 11 - Intel Celeron - 4GB RAM - 64GB SSD - ... | Price: ₦160,000 | Solds: Sold by Pheemyhan Concept | Image: N/A\n",
      "Product: HP Stream 11 - Intel Celeron - 4GB RAM - 32GB Ssd - ... | Price: ₦153,000 | Solds: Sold by Pheemyhan Concept | Image: N/A\n",
      "Product: HP Stream 11 - Intel Celeron - 4GB RAM - 64GB HDD - ... | Price: ₦140,000 | Solds: Sold by Arkland Computers | Image: N/A\n",
      "Product: HP Stream 11 Pro - Intel Celeron - 64GB ROM HDD - 4G... | Price: ₦140,000 | Solds: Sold by Arkland Computers | Image: N/A\n",
      "Product: HP Stream 11 - Intel Celeron D/c - 4GB RAM - 64GB HD... | Price: ₦200,000 | Solds: Sold by Pheemyhan Concept | Image: N/A\n",
      "Product: HP Stream 11 Pro G4 - Intel Celeron Dual Core - 4GB ... | Price: ₦140,000 | Solds: Sold by Best Choose Hub | Image: N/A\n",
      "Product: HP Stream 11 - Intel- Celeron Quad Core - 4GB RAM - ... | Price: ₦150,000 | Solds: Sold by Gaff Essential Gadgets | Image: N/A\n",
      "Product: HP Stream 11 - Intel Celeron Quad Core - 11''-4GB RA... | Price: ₦150,000 | Solds: Sold by Simplexar Store | Image: N/A\n",
      "Product: HP Stream 11 - Intel- Celeron Quad Core - 4GB RAM - ... | Price: ₦150,000 | Solds: Sold by Gaff Essential Gadgets | Image: N/A\n",
      "Product: HP Stream 11 Intel Celeron Quad Core - 64GB SSD - 4G... | Price: ₦150,000 | Solds: Sold by Simplexar Store | Image: N/A\n",
      "Product: HP Stream 11 Intel Celeron Quad Core - 64GB SSD - 4G... | Price: ₦150,000 | Solds: Sold by Simplexar Store | Image: N/A\n",
      "Product: HP Stream 11 Intel Celeron Quad Core - 64GB SSD - 4G... | Price: ₦150,000 | Solds: Sold by Simplexar Store | Image: N/A\n",
      "Data saved to konga_laptops_products.csv\n"
     ]
    }
   ],
   "source": [
    "import asyncio\n",
    "import pandas as pd\n",
    "from itertools import zip_longest\n",
    "from playwright.async_api import async_playwright\n",
    "\n",
    "async def scrape_konga():\n",
    "    async with async_playwright() as p:\n",
    "        browser = await p.chromium.launch(headless=True)  # Run in headless mode\n",
    "        page = await browser.new_page()\n",
    "\n",
    "        # Go to Jumia gaming laptops category\n",
    "        await page.goto(\"https://www.konga.com/category/mini-netbooks-5250\")\n",
    "\n",
    "        # Wait for products to load\n",
    "        await page.wait_for_selector(\".af885_1iPzH\")\n",
    "\n",
    "        # Extract product names\n",
    "        product_names = await page.locator(\".af885_1iPzH\").all_inner_texts()\n",
    "\n",
    "        # Extract prices\n",
    "        product_prices = await page.locator(\".d7c0f_sJAqi\").all_inner_texts()\n",
    "\n",
    "        # Extract ratings\n",
    "        sold_by = await page.locator(\"._7cc7b_23GsY\").all_inner_texts()\n",
    "\n",
    "        # Extract image URLs\n",
    "        product_images = await page.locator(\".f5e10_VzEXF _59c59_3-MyH cld-responsive lazyloaded\").evaluate_all(\"elements => elements.map(e => e.getAttribute('data-src'))\")\n",
    "\n",
    "        # Debug: Print lengths of all lists\n",
    "        print(f\"Names: {len(product_names)}, Prices: {len(product_prices)}, Solds: {len(sold_by)}, Images: {len(product_images)}\")\n",
    "\n",
    "        # Ensure all lists have the same length by filling missing values with \"N/A\"\n",
    "        aligned_data = list(zip_longest(product_names, product_prices, sold_by, product_images, fillvalue=\"N/A\"))\n",
    "\n",
    "        # Print extracted data\n",
    "        for name, price, sold_by, img in aligned_data:\n",
    "            print(f\"Product: {name} | Price: {price} | Solds: {sold_by} | Image: {img}\")\n",
    "\n",
    "        # Save to CSV\n",
    "        df = pd.DataFrame(aligned_data, columns=[\"Product Name\", \"Price\", \"Sold by\", \"Image URL\"])\n",
    "        df.to_csv(\"konga_laptops_products.csv\", index=False)\n",
    "        print(\"Data saved to konga_laptops_products.csv\")\n",
    "\n",
    "        await browser.close()\n",
    "\n",
    "# Run the scraper\n",
    "await scrape_konga()\n"
   ]
  },
  {
   "cell_type": "code",
   "execution_count": 12,
   "id": "d98a909b-623b-4a52-8f28-a1d0af76e3a3",
   "metadata": {},
   "outputs": [
    {
     "name": "stdout",
     "output_type": "stream",
     "text": [
      "Scraping: https://www.konga.com/category/mini-netbooks-5250?page=1\n",
      "Scraping: https://www.konga.com/category/mini-netbooks-5250?page=2\n",
      "Scraping: https://www.konga.com/category/mini-netbooks-5250?page=3\n",
      "Scraping: https://www.konga.com/category/mini-netbooks-5250?page=4\n",
      "Data saved to konga_laptops_products.csv\n"
     ]
    }
   ],
   "source": [
    "import asyncio\n",
    "import pandas as pd\n",
    "from itertools import zip_longest\n",
    "from playwright.async_api import async_playwright\n",
    "\n",
    "async def scrape_konga():\n",
    "    async with async_playwright() as p:\n",
    "        browser = await p.chromium.launch(headless=True)  # Run in headless mode\n",
    "        page = await browser.new_page()\n",
    "\n",
    "        all_products = []  # Store all products\n",
    "\n",
    "        for page_number in range(1,5):  # Scrape pages 1 to 10\n",
    "            url = f\"https://www.konga.com/category/mini-netbooks-5250?page={page_number}\"\n",
    "            print(f\"Scraping: {url}\")\n",
    "            await page.goto(url)\n",
    "\n",
    "            # Wait for products to load\n",
    "            await page.wait_for_selector(\".af885_1iPzH\", timeout=60000) \n",
    "\n",
    "            # Extract product names\n",
    "            product_names = await page.locator(\".af885_1iPzH\").all_inner_texts()\n",
    "\n",
    "             # Extract prices\n",
    "            product_prices = await page.locator(\".d7c0f_sJAqi\").all_inner_texts()\n",
    "\n",
    "            # Extract ratings\n",
    "            sold_by = await page.locator(\"._7cc7b_23GsY\").all_inner_texts()\n",
    "\n",
    "            # Extract image URLs\n",
    "            product_images = await page.locator(\".f5e10_VzEXF _59c59_3-MyH cld-responsive lazyloaded\").evaluate_all(\"elements => elements.map(e => e.getAttribute('data-src'))\")\n",
    "\n",
    "            # Ensure all lists have the same length\n",
    "            aligned_data = list(zip_longest(product_names, product_prices, sold_by, product_images, fillvalue=\"N/A\"))\n",
    "\n",
    "            # Add products from this page to the list\n",
    "            all_products.extend(aligned_data)\n",
    "\n",
    "        # Save to CSV\n",
    "        df = pd.DataFrame(all_products, columns=[\"Product Name\", \"Price\", \"Sold_by\", \"Image URL\"])\n",
    "        df.to_csv(\"konga_laptop_products.csv\", index=False)\n",
    "        print(\"Data saved to konga_laptops_products.csv\")\n",
    "\n",
    "        await browser.close()\n",
    "\n",
    "# Run the scraper\n",
    "await scrape_konga()"
   ]
  },
  {
   "cell_type": "code",
   "execution_count": 13,
   "id": "9ea1e9c9-2ca7-4b9b-a3fc-ef126f518dde",
   "metadata": {},
   "outputs": [
    {
     "ename": "FileNotFoundError",
     "evalue": "[Errno 2] No such file or directory: 'konga_laptops_products.csv'",
     "output_type": "error",
     "traceback": [
      "\u001b[1;31m---------------------------------------------------------------------------\u001b[0m",
      "\u001b[1;31mFileNotFoundError\u001b[0m                         Traceback (most recent call last)",
      "Cell \u001b[1;32mIn[13], line 1\u001b[0m\n\u001b[1;32m----> 1\u001b[0m product \u001b[38;5;241m=\u001b[39m pd\u001b[38;5;241m.\u001b[39mread_csv(\u001b[38;5;124m\"\u001b[39m\u001b[38;5;124mkonga_laptops_products.csv\u001b[39m\u001b[38;5;124m\"\u001b[39m)\n\u001b[0;32m      2\u001b[0m product\u001b[38;5;241m.\u001b[39mhead(\u001b[38;5;241m20\u001b[39m)\n",
      "File \u001b[1;32m~\\AppData\\Roaming\\Python\\Python311\\site-packages\\pandas\\io\\parsers\\readers.py:1026\u001b[0m, in \u001b[0;36mread_csv\u001b[1;34m(filepath_or_buffer, sep, delimiter, header, names, index_col, usecols, dtype, engine, converters, true_values, false_values, skipinitialspace, skiprows, skipfooter, nrows, na_values, keep_default_na, na_filter, verbose, skip_blank_lines, parse_dates, infer_datetime_format, keep_date_col, date_parser, date_format, dayfirst, cache_dates, iterator, chunksize, compression, thousands, decimal, lineterminator, quotechar, quoting, doublequote, escapechar, comment, encoding, encoding_errors, dialect, on_bad_lines, delim_whitespace, low_memory, memory_map, float_precision, storage_options, dtype_backend)\u001b[0m\n\u001b[0;32m   1013\u001b[0m kwds_defaults \u001b[38;5;241m=\u001b[39m _refine_defaults_read(\n\u001b[0;32m   1014\u001b[0m     dialect,\n\u001b[0;32m   1015\u001b[0m     delimiter,\n\u001b[1;32m   (...)\u001b[0m\n\u001b[0;32m   1022\u001b[0m     dtype_backend\u001b[38;5;241m=\u001b[39mdtype_backend,\n\u001b[0;32m   1023\u001b[0m )\n\u001b[0;32m   1024\u001b[0m kwds\u001b[38;5;241m.\u001b[39mupdate(kwds_defaults)\n\u001b[1;32m-> 1026\u001b[0m \u001b[38;5;28;01mreturn\u001b[39;00m _read(filepath_or_buffer, kwds)\n",
      "File \u001b[1;32m~\\AppData\\Roaming\\Python\\Python311\\site-packages\\pandas\\io\\parsers\\readers.py:620\u001b[0m, in \u001b[0;36m_read\u001b[1;34m(filepath_or_buffer, kwds)\u001b[0m\n\u001b[0;32m    617\u001b[0m _validate_names(kwds\u001b[38;5;241m.\u001b[39mget(\u001b[38;5;124m\"\u001b[39m\u001b[38;5;124mnames\u001b[39m\u001b[38;5;124m\"\u001b[39m, \u001b[38;5;28;01mNone\u001b[39;00m))\n\u001b[0;32m    619\u001b[0m \u001b[38;5;66;03m# Create the parser.\u001b[39;00m\n\u001b[1;32m--> 620\u001b[0m parser \u001b[38;5;241m=\u001b[39m TextFileReader(filepath_or_buffer, \u001b[38;5;241m*\u001b[39m\u001b[38;5;241m*\u001b[39mkwds)\n\u001b[0;32m    622\u001b[0m \u001b[38;5;28;01mif\u001b[39;00m chunksize \u001b[38;5;129;01mor\u001b[39;00m iterator:\n\u001b[0;32m    623\u001b[0m     \u001b[38;5;28;01mreturn\u001b[39;00m parser\n",
      "File \u001b[1;32m~\\AppData\\Roaming\\Python\\Python311\\site-packages\\pandas\\io\\parsers\\readers.py:1620\u001b[0m, in \u001b[0;36mTextFileReader.__init__\u001b[1;34m(self, f, engine, **kwds)\u001b[0m\n\u001b[0;32m   1617\u001b[0m     \u001b[38;5;28mself\u001b[39m\u001b[38;5;241m.\u001b[39moptions[\u001b[38;5;124m\"\u001b[39m\u001b[38;5;124mhas_index_names\u001b[39m\u001b[38;5;124m\"\u001b[39m] \u001b[38;5;241m=\u001b[39m kwds[\u001b[38;5;124m\"\u001b[39m\u001b[38;5;124mhas_index_names\u001b[39m\u001b[38;5;124m\"\u001b[39m]\n\u001b[0;32m   1619\u001b[0m \u001b[38;5;28mself\u001b[39m\u001b[38;5;241m.\u001b[39mhandles: IOHandles \u001b[38;5;241m|\u001b[39m \u001b[38;5;28;01mNone\u001b[39;00m \u001b[38;5;241m=\u001b[39m \u001b[38;5;28;01mNone\u001b[39;00m\n\u001b[1;32m-> 1620\u001b[0m \u001b[38;5;28mself\u001b[39m\u001b[38;5;241m.\u001b[39m_engine \u001b[38;5;241m=\u001b[39m \u001b[38;5;28mself\u001b[39m\u001b[38;5;241m.\u001b[39m_make_engine(f, \u001b[38;5;28mself\u001b[39m\u001b[38;5;241m.\u001b[39mengine)\n",
      "File \u001b[1;32m~\\AppData\\Roaming\\Python\\Python311\\site-packages\\pandas\\io\\parsers\\readers.py:1880\u001b[0m, in \u001b[0;36mTextFileReader._make_engine\u001b[1;34m(self, f, engine)\u001b[0m\n\u001b[0;32m   1878\u001b[0m     \u001b[38;5;28;01mif\u001b[39;00m \u001b[38;5;124m\"\u001b[39m\u001b[38;5;124mb\u001b[39m\u001b[38;5;124m\"\u001b[39m \u001b[38;5;129;01mnot\u001b[39;00m \u001b[38;5;129;01min\u001b[39;00m mode:\n\u001b[0;32m   1879\u001b[0m         mode \u001b[38;5;241m+\u001b[39m\u001b[38;5;241m=\u001b[39m \u001b[38;5;124m\"\u001b[39m\u001b[38;5;124mb\u001b[39m\u001b[38;5;124m\"\u001b[39m\n\u001b[1;32m-> 1880\u001b[0m \u001b[38;5;28mself\u001b[39m\u001b[38;5;241m.\u001b[39mhandles \u001b[38;5;241m=\u001b[39m get_handle(\n\u001b[0;32m   1881\u001b[0m     f,\n\u001b[0;32m   1882\u001b[0m     mode,\n\u001b[0;32m   1883\u001b[0m     encoding\u001b[38;5;241m=\u001b[39m\u001b[38;5;28mself\u001b[39m\u001b[38;5;241m.\u001b[39moptions\u001b[38;5;241m.\u001b[39mget(\u001b[38;5;124m\"\u001b[39m\u001b[38;5;124mencoding\u001b[39m\u001b[38;5;124m\"\u001b[39m, \u001b[38;5;28;01mNone\u001b[39;00m),\n\u001b[0;32m   1884\u001b[0m     compression\u001b[38;5;241m=\u001b[39m\u001b[38;5;28mself\u001b[39m\u001b[38;5;241m.\u001b[39moptions\u001b[38;5;241m.\u001b[39mget(\u001b[38;5;124m\"\u001b[39m\u001b[38;5;124mcompression\u001b[39m\u001b[38;5;124m\"\u001b[39m, \u001b[38;5;28;01mNone\u001b[39;00m),\n\u001b[0;32m   1885\u001b[0m     memory_map\u001b[38;5;241m=\u001b[39m\u001b[38;5;28mself\u001b[39m\u001b[38;5;241m.\u001b[39moptions\u001b[38;5;241m.\u001b[39mget(\u001b[38;5;124m\"\u001b[39m\u001b[38;5;124mmemory_map\u001b[39m\u001b[38;5;124m\"\u001b[39m, \u001b[38;5;28;01mFalse\u001b[39;00m),\n\u001b[0;32m   1886\u001b[0m     is_text\u001b[38;5;241m=\u001b[39mis_text,\n\u001b[0;32m   1887\u001b[0m     errors\u001b[38;5;241m=\u001b[39m\u001b[38;5;28mself\u001b[39m\u001b[38;5;241m.\u001b[39moptions\u001b[38;5;241m.\u001b[39mget(\u001b[38;5;124m\"\u001b[39m\u001b[38;5;124mencoding_errors\u001b[39m\u001b[38;5;124m\"\u001b[39m, \u001b[38;5;124m\"\u001b[39m\u001b[38;5;124mstrict\u001b[39m\u001b[38;5;124m\"\u001b[39m),\n\u001b[0;32m   1888\u001b[0m     storage_options\u001b[38;5;241m=\u001b[39m\u001b[38;5;28mself\u001b[39m\u001b[38;5;241m.\u001b[39moptions\u001b[38;5;241m.\u001b[39mget(\u001b[38;5;124m\"\u001b[39m\u001b[38;5;124mstorage_options\u001b[39m\u001b[38;5;124m\"\u001b[39m, \u001b[38;5;28;01mNone\u001b[39;00m),\n\u001b[0;32m   1889\u001b[0m )\n\u001b[0;32m   1890\u001b[0m \u001b[38;5;28;01massert\u001b[39;00m \u001b[38;5;28mself\u001b[39m\u001b[38;5;241m.\u001b[39mhandles \u001b[38;5;129;01mis\u001b[39;00m \u001b[38;5;129;01mnot\u001b[39;00m \u001b[38;5;28;01mNone\u001b[39;00m\n\u001b[0;32m   1891\u001b[0m f \u001b[38;5;241m=\u001b[39m \u001b[38;5;28mself\u001b[39m\u001b[38;5;241m.\u001b[39mhandles\u001b[38;5;241m.\u001b[39mhandle\n",
      "File \u001b[1;32m~\\AppData\\Roaming\\Python\\Python311\\site-packages\\pandas\\io\\common.py:873\u001b[0m, in \u001b[0;36mget_handle\u001b[1;34m(path_or_buf, mode, encoding, compression, memory_map, is_text, errors, storage_options)\u001b[0m\n\u001b[0;32m    868\u001b[0m \u001b[38;5;28;01melif\u001b[39;00m \u001b[38;5;28misinstance\u001b[39m(handle, \u001b[38;5;28mstr\u001b[39m):\n\u001b[0;32m    869\u001b[0m     \u001b[38;5;66;03m# Check whether the filename is to be opened in binary mode.\u001b[39;00m\n\u001b[0;32m    870\u001b[0m     \u001b[38;5;66;03m# Binary mode does not support 'encoding' and 'newline'.\u001b[39;00m\n\u001b[0;32m    871\u001b[0m     \u001b[38;5;28;01mif\u001b[39;00m ioargs\u001b[38;5;241m.\u001b[39mencoding \u001b[38;5;129;01mand\u001b[39;00m \u001b[38;5;124m\"\u001b[39m\u001b[38;5;124mb\u001b[39m\u001b[38;5;124m\"\u001b[39m \u001b[38;5;129;01mnot\u001b[39;00m \u001b[38;5;129;01min\u001b[39;00m ioargs\u001b[38;5;241m.\u001b[39mmode:\n\u001b[0;32m    872\u001b[0m         \u001b[38;5;66;03m# Encoding\u001b[39;00m\n\u001b[1;32m--> 873\u001b[0m         handle \u001b[38;5;241m=\u001b[39m \u001b[38;5;28mopen\u001b[39m(\n\u001b[0;32m    874\u001b[0m             handle,\n\u001b[0;32m    875\u001b[0m             ioargs\u001b[38;5;241m.\u001b[39mmode,\n\u001b[0;32m    876\u001b[0m             encoding\u001b[38;5;241m=\u001b[39mioargs\u001b[38;5;241m.\u001b[39mencoding,\n\u001b[0;32m    877\u001b[0m             errors\u001b[38;5;241m=\u001b[39merrors,\n\u001b[0;32m    878\u001b[0m             newline\u001b[38;5;241m=\u001b[39m\u001b[38;5;124m\"\u001b[39m\u001b[38;5;124m\"\u001b[39m,\n\u001b[0;32m    879\u001b[0m         )\n\u001b[0;32m    880\u001b[0m     \u001b[38;5;28;01melse\u001b[39;00m:\n\u001b[0;32m    881\u001b[0m         \u001b[38;5;66;03m# Binary mode\u001b[39;00m\n\u001b[0;32m    882\u001b[0m         handle \u001b[38;5;241m=\u001b[39m \u001b[38;5;28mopen\u001b[39m(handle, ioargs\u001b[38;5;241m.\u001b[39mmode)\n",
      "\u001b[1;31mFileNotFoundError\u001b[0m: [Errno 2] No such file or directory: 'konga_laptops_products.csv'"
     ]
    }
   ],
   "source": [
    "product = pd.read_csv(\"konga_laptops_products.csv\")\n",
    "product.head(20)"
   ]
  },
  {
   "cell_type": "code",
   "execution_count": null,
   "id": "6451d811-5088-49d5-9939-ea76f157583e",
   "metadata": {},
   "outputs": [],
   "source": []
  }
 ],
 "metadata": {
  "kernelspec": {
   "display_name": "Python 3 (ipykernel)",
   "language": "python",
   "name": "python3"
  },
  "language_info": {
   "codemirror_mode": {
    "name": "ipython",
    "version": 3
   },
   "file_extension": ".py",
   "mimetype": "text/x-python",
   "name": "python",
   "nbconvert_exporter": "python",
   "pygments_lexer": "ipython3",
   "version": "3.11.7"
  }
 },
 "nbformat": 4,
 "nbformat_minor": 5
}
